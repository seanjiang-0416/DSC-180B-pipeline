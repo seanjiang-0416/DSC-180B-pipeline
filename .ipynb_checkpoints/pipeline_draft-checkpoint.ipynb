{
 "cells": [
  {
   "cell_type": "code",
   "execution_count": 12,
   "id": "6fb24647",
   "metadata": {
    "scrolled": true
   },
   "outputs": [],
   "source": [
    "import requests\n",
    "from bs4 import BeautifulSoup\n",
    "\n",
    "def scrape_site(url):\n",
    "    response = requests.get(url)\n",
    "\n",
    "    if response.status_code == 200:\n",
    "        soup = BeautifulSoup(response.content, 'html.parser')\n",
    "        header = soup.find(['h1']).get_text().strip()\n",
    "        content_tags = soup.find_all(['p'])\n",
    "        content = [tag.get_text().strip().replace('\\xa0', ' ') for tag in content_tags]\n",
    "        return header, content\n",
    "    else:\n",
    "        print(f\"Failed to retrieve the webpage. Status code: {response.status_code}\")\n",
    "\n",
    "url = \"https://www.cnn.com/2024/01/17/politics/biden-ukraine-white-house-meeting/index.html\"\n",
    "header, content = scrape_site(url)"
   ]
  },
  {
   "cell_type": "code",
   "execution_count": 5,
   "id": "f893cdd7",
   "metadata": {
    "scrolled": true
   },
   "outputs": [
    {
     "name": "stderr",
     "output_type": "stream",
     "text": [
      "/home/zhj003/.local/lib/python3.9/site-packages/transformers/pipelines/text_classification.py:105: UserWarning: `return_all_scores` is now deprecated,  if want a similar functionality use `top_k=None` instead of `return_all_scores=True` or `top_k=1` instead of `return_all_scores=False`.\n",
      "  warnings.warn(\n"
     ]
    },
    {
     "name": "stdout",
     "output_type": "stream",
     "text": [
      "The context veracity score of the article is 4.3\n"
     ]
    }
   ],
   "source": [
    "import context_veracity\n",
    "content_concat = \" \".join(content)\n",
    "sent_score = context_veracity.sentiment_shift(content_concat)\n",
    "topic_score = context_veracity.topic_shift(content_concat)\n",
    "ner_score = context_veracity.ner_shift(content_concat)\n",
    "context_veracity_score = context_veracity.calculate_contextual_drift(sent_score, topic_score, ner_score)\n",
    "print(f\"The context veracity score of the article is {context_veracity_score}\")"
   ]
  },
  {
   "cell_type": "code",
   "execution_count": 8,
   "id": "7ac6796a",
   "metadata": {
    "scrolled": true
   },
   "outputs": [
    {
     "name": "stdout",
     "output_type": "stream",
     "text": [
      "The political bias score of the article is  1.0\n"
     ]
    }
   ],
   "source": [
    "import political_bias\n",
    "import numpy as np\n",
    "pred_labels = []\n",
    "for paragraph in content:\n",
    "    processed_article = political_bias.preprocess_article(header, paragraph)\n",
    "    label = political_bias.predict_label(processed_article)\n",
    "    pred_labels.append(label[0])\n",
    "print(\"The political bias score of the article is \", np.mean(pred_labels))"
   ]
  },
  {
   "cell_type": "code",
   "execution_count": 25,
   "id": "f2861538",
   "metadata": {},
   "outputs": [
    {
     "name": "stdout",
     "output_type": "stream",
     "text": [
      "The sentiment score of the article is  0.0\n"
     ]
    }
   ],
   "source": [
    "from sentiment import SentimentModel\n",
    "with open('models/sentiM.pkl', 'rb') as f:\n",
    "            sentM = pickle.load(f)\n",
    "pred_labels = []\n",
    "for paragraph in content:\n",
    "    label = sentM.predict_article(header, paragraph)[0]\n",
    "    pred_labels.append(label)\n",
    "print(\"The sentiment score of the article is \", np.mean(pred_labels))"
   ]
  },
  {
   "cell_type": "code",
   "execution_count": null,
   "id": "ab00c92d",
   "metadata": {},
   "outputs": [],
   "source": []
  }
 ],
 "metadata": {
  "kernelspec": {
   "display_name": "Python 3 (ipykernel)",
   "language": "python",
   "name": "python3"
  },
  "language_info": {
   "codemirror_mode": {
    "name": "ipython",
    "version": 3
   },
   "file_extension": ".py",
   "mimetype": "text/x-python",
   "name": "python",
   "nbconvert_exporter": "python",
   "pygments_lexer": "ipython3",
   "version": "3.9.5"
  }
 },
 "nbformat": 4,
 "nbformat_minor": 5
}
